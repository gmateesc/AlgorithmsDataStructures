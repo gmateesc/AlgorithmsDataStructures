{
  "nbformat": 4,
  "nbformat_minor": 0,
  "metadata": {
    "colab": {
      "provenance": [],
      "authorship_tag": "ABX9TyMwApeuDUoNcVJMTedcvLE6"
    },
    "kernelspec": {
      "name": "python3",
      "display_name": "Python 3"
    },
    "language_info": {
      "name": "python"
    }
  },
  "cells": [
    {
      "cell_type": "code",
      "execution_count": 10,
      "metadata": {
        "colab": {
          "base_uri": "https://localhost:8080/"
        },
        "id": "1v-RvhcM9Wv-",
        "outputId": "4a22edb3-08b2-41a4-8413-6fce605b352c"
      },
      "outputs": [
        {
          "output_type": "stream",
          "name": "stdout",
          "text": [
            "Name: statsmodels\n",
            "Version: 0.12.2\n",
            "Summary: Statistical computations and models for Python\n",
            "Home-page: https://www.statsmodels.org/\n",
            "Author: None\n",
            "Author-email: None\n",
            "License: BSD License\n",
            "Location: /usr/local/lib/python3.8/dist-packages\n",
            "Requires: patsy, pandas, numpy, scipy\n",
            "Required-by: plotnine\n"
          ]
        }
      ],
      "source": [
        "#!which python\n",
        "#!python --version\n",
        "\n",
        "#%pip show PyYaml\n",
        "%pip show statsmodels"
      ]
    }
  ]
}